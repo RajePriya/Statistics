{
 "cells": [
  {
   "cell_type": "markdown",
   "id": "76d5f132",
   "metadata": {},
   "source": [
    "## MEASURE OF TENDENCY\n",
    "### Mean, Median, Mode"
   ]
  },
  {
   "cell_type": "code",
   "execution_count": null,
   "id": "c1beeb00",
   "metadata": {},
   "outputs": [],
   "source": [
    "Mathematically central tendency means measuring the center or distribution of location of values of a data set. It gives an\n",
    "idea of the average value of the data in the data set and also an indication of how widely the values are spread in the data\n",
    "set. That in turn helps in evaluating the chances of a new input fitting into the existing data set and hence probability of\n",
    "success.\n",
    "\n",
    "There are three main measures of central tendency which can be calculated using the methods in pandas python library.\n",
    "\n",
    "=> Mean - It is the Average value of the data which is a division of sum of the values with the number of values.\n",
    "\n",
    "=> Median - It is the middle value in distribution when the values are arranged in ascending or descending order.\n",
    "\n",
    "=> Mode - It is the most commonly occurring value in a distribution."
   ]
  },
  {
   "cell_type": "code",
   "execution_count": null,
   "id": "488fdf52",
   "metadata": {},
   "outputs": [],
   "source": [
    "### Mean (Average)\n",
    "age=[12,13,14,21,24]"
   ]
  },
  {
   "cell_type": "code",
   "execution_count": 2,
   "id": "782dd480",
   "metadata": {},
   "outputs": [
    {
     "data": {
      "text/plain": [
       "16.8"
      ]
     },
     "execution_count": 2,
     "metadata": {},
     "output_type": "execute_result"
    }
   ],
   "source": [
    "(12+13+14+21+24)/5"
   ]
  },
  {
   "cell_type": "code",
   "execution_count": 3,
   "id": "1078c674",
   "metadata": {},
   "outputs": [
    {
     "data": {
      "text/plain": [
       "16.8"
      ]
     },
     "execution_count": 3,
     "metadata": {},
     "output_type": "execute_result"
    }
   ],
   "source": [
    "import numpy as np\n",
    "np.mean(age)"
   ]
  },
  {
   "cell_type": "code",
   "execution_count": 5,
   "id": "2119b3cb",
   "metadata": {
    "scrolled": true
   },
   "outputs": [],
   "source": [
    "weights=[45,34,55,76,45,35,89,98,75]"
   ]
  },
  {
   "cell_type": "code",
   "execution_count": 6,
   "id": "c24ff2ef",
   "metadata": {},
   "outputs": [
    {
     "data": {
      "text/plain": [
       "61.333333333333336"
      ]
     },
     "execution_count": 6,
     "metadata": {},
     "output_type": "execute_result"
    }
   ],
   "source": [
    "np.mean(weights)"
   ]
  },
  {
   "cell_type": "code",
   "execution_count": 10,
   "id": "cf22bf57",
   "metadata": {},
   "outputs": [],
   "source": [
    "weights=[45,34,55,76,45,35,89,98,75,1000]"
   ]
  },
  {
   "cell_type": "code",
   "execution_count": 11,
   "id": "a6132877",
   "metadata": {},
   "outputs": [
    {
     "data": {
      "text/plain": [
       "155.2"
      ]
     },
     "execution_count": 11,
     "metadata": {},
     "output_type": "execute_result"
    }
   ],
   "source": [
    "np.mean(weights)"
   ]
  },
  {
   "cell_type": "code",
   "execution_count": null,
   "id": "703b4446",
   "metadata": {},
   "outputs": [],
   "source": [
    "## Median"
   ]
  },
  {
   "cell_type": "code",
   "execution_count": 12,
   "id": "b18b5171",
   "metadata": {},
   "outputs": [
    {
     "data": {
      "text/plain": [
       "65.0"
      ]
     },
     "execution_count": 12,
     "metadata": {},
     "output_type": "execute_result"
    }
   ],
   "source": [
    "np.median(weights)"
   ]
  },
  {
   "cell_type": "code",
   "execution_count": null,
   "id": "c8d8d4ab",
   "metadata": {},
   "outputs": [],
   "source": [
    "## Mode"
   ]
  },
  {
   "cell_type": "code",
   "execution_count": 13,
   "id": "bf77d4e7",
   "metadata": {},
   "outputs": [],
   "source": [
    "from scipy import stats"
   ]
  },
  {
   "cell_type": "code",
   "execution_count": 14,
   "id": "c023dddc",
   "metadata": {},
   "outputs": [
    {
     "name": "stderr",
     "output_type": "stream",
     "text": [
      "C:\\Users\\Hp\\AppData\\Local\\Temp\\ipykernel_4620\\4197893964.py:1: FutureWarning: Unlike other reduction functions (e.g. `skew`, `kurtosis`), the default behavior of `mode` typically preserves the axis it acts along. In SciPy 1.11.0, this behavior will change: the default value of `keepdims` will become False, the `axis` over which the statistic is taken will be eliminated, and the value None will no longer be accepted. Set `keepdims` to True or False to avoid this warning.\n",
      "  stats.mode(weights)\n"
     ]
    },
    {
     "data": {
      "text/plain": [
       "ModeResult(mode=array([45]), count=array([2]))"
      ]
     },
     "execution_count": 14,
     "metadata": {},
     "output_type": "execute_result"
    }
   ],
   "source": [
    "stats.mode(weights)"
   ]
  },
  {
   "cell_type": "code",
   "execution_count": null,
   "id": "724d1c2a",
   "metadata": {},
   "outputs": [],
   "source": []
  }
 ],
 "metadata": {
  "kernelspec": {
   "display_name": "Python 3 (ipykernel)",
   "language": "python",
   "name": "python3"
  },
  "language_info": {
   "codemirror_mode": {
    "name": "ipython",
    "version": 3
   },
   "file_extension": ".py",
   "mimetype": "text/x-python",
   "name": "python",
   "nbconvert_exporter": "python",
   "pygments_lexer": "ipython3",
   "version": "3.9.13"
  }
 },
 "nbformat": 4,
 "nbformat_minor": 5
}
