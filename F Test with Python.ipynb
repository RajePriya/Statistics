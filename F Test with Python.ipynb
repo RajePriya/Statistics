{
 "cells": [
  {
   "cell_type": "markdown",
   "id": "e837b5a5",
   "metadata": {},
   "source": [
    "## F Test with Python"
   ]
  },
  {
   "cell_type": "code",
   "execution_count": 1,
   "id": "097e6f24",
   "metadata": {},
   "outputs": [],
   "source": [
    "# Ecidence to say that the two population variances are not equal.\n",
    "## chek we come to conclusion whether one worker is better than the other\n",
    "worker1= [18,19,22,25,27,28,41,51,55]\n",
    "worker2= [14,15,15,17,18,22,25,25,27,34]"
   ]
  },
  {
   "cell_type": "code",
   "execution_count": 2,
   "id": "84fa8b16",
   "metadata": {},
   "outputs": [],
   "source": [
    "## Calucalte the F Test statistics\n",
    "import numpy as np\n",
    "f_test=np.var(worker1)/np.var(worker2)"
   ]
  },
  {
   "cell_type": "code",
   "execution_count": 3,
   "id": "a460a8a0",
   "metadata": {},
   "outputs": [
    {
     "data": {
      "text/plain": [
       "4.4188261949819125"
      ]
     },
     "execution_count": 3,
     "metadata": {},
     "output_type": "execute_result"
    }
   ],
   "source": [
    "f_test"
   ]
  },
  {
   "cell_type": "code",
   "execution_count": 16,
   "id": "8261fb43",
   "metadata": {},
   "outputs": [],
   "source": [
    "## Degree of freedom\n",
    "df1=len(worker1)-1\n",
    "df2=len(worker2)-1\n",
    "significane_value=0.05"
   ]
  },
  {
   "cell_type": "code",
   "execution_count": 17,
   "id": "95f36c1c",
   "metadata": {},
   "outputs": [],
   "source": [
    "import scipy.stats as stat"
   ]
  },
  {
   "cell_type": "code",
   "execution_count": 18,
   "id": "e3a767eb",
   "metadata": {},
   "outputs": [
    {
     "data": {
      "text/plain": [
       "3.2295826126867744"
      ]
     },
     "execution_count": 18,
     "metadata": {},
     "output_type": "execute_result"
    }
   ],
   "source": [
    "stat.f.ppf(q=1-significane_value,dfn=df1,dfd=df2)"
   ]
  },
  {
   "cell_type": "code",
   "execution_count": 19,
   "id": "8dc3ca4c",
   "metadata": {},
   "outputs": [],
   "source": [
    "critical_value=stat.f.ppf(q=1-significane_value,dfn=df1,dfd=df2)"
   ]
  },
  {
   "cell_type": "code",
   "execution_count": 20,
   "id": "833da7b5",
   "metadata": {},
   "outputs": [
    {
     "name": "stdout",
     "output_type": "stream",
     "text": [
      "Reject the Null hypothesis\n"
     ]
    }
   ],
   "source": [
    "if f_test>critical_value:\n",
    "    print(\"Reject the Null hypothesis\")\n",
    "else:\n",
    "    print(\"We fail to reject the null hypothesis\")"
   ]
  },
  {
   "cell_type": "code",
   "execution_count": null,
   "id": "7a9ecc4c",
   "metadata": {},
   "outputs": [],
   "source": []
  }
 ],
 "metadata": {
  "kernelspec": {
   "display_name": "Python 3 (ipykernel)",
   "language": "python",
   "name": "python3"
  },
  "language_info": {
   "codemirror_mode": {
    "name": "ipython",
    "version": 3
   },
   "file_extension": ".py",
   "mimetype": "text/x-python",
   "name": "python",
   "nbconvert_exporter": "python",
   "pygments_lexer": "ipython3",
   "version": "3.9.13"
  }
 },
 "nbformat": 4,
 "nbformat_minor": 5
}
